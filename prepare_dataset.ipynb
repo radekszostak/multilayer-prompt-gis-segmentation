{
 "cells": [
  {
   "cell_type": "code",
   "execution_count": 2,
   "metadata": {},
   "outputs": [],
   "source": [
    "import rioxarray as rxr\n",
    "import xarray as xr\n",
    "# import rioxarray as rxr\n",
    "import matplotlib.pyplot as plt"
   ]
  },
  {
   "cell_type": "code",
   "execution_count": 3,
   "metadata": {},
   "outputs": [],
   "source": [
    "# paths = [\"data/20230708_ms_koc_transparent_mosaic_blue.tif\",\n",
    "#          \"data/20230708_ms_koc_transparent_mosaic_green.tif\",\n",
    "#          \"data/20230708_ms_koc_transparent_mosaic_red.tif\",\n",
    "#          \"data/20230708_ms_koc_transparent_mosaic_nir.tif\",\n",
    "#          \"data/20230708_ms_koc_transparent_mosaic_red edge.tif\"]\n",
    "paths = [\"data/20230708_ms_koc_index_blue.tif\",\n",
    "         \"data/20230708_ms_koc_index_green.tif\",\n",
    "         \"data/20230708_ms_koc_index_red.tif\",\n",
    "         \"data/20230708_ms_koc_index_nir.tif\",\n",
    "         \"data/20230708_ms_koc_index_red_edge.tif\"]\n",
    "bands = ['blue', 'green', 'red', 'nir', 'red_edge']\n",
    "# reflectance_factors[0.47613, 0.47627, 0.47645, 0.47674, ]"
   ]
  },
  {
   "cell_type": "code",
   "execution_count": 4,
   "metadata": {},
   "outputs": [],
   "source": [
    "ds = xr.Dataset()\n",
    "for path, band in zip(paths, bands):\n",
    "    ds[band] = rxr.open_rasterio(path).squeeze()\n",
    "ds = ds.rio.reproject(\"EPSG:4326\", interpolation='nearest')"
   ]
  },
  {
   "cell_type": "code",
   "execution_count": 6,
   "metadata": {},
   "outputs": [],
   "source": [
    "ds.to_netcdf('data/multispectral.nc', engine='h5netcdf')"
   ]
  },
  {
   "cell_type": "code",
   "execution_count": null,
   "metadata": {},
   "outputs": [],
   "source": [
    "ds[[\"red\", \"green\", \"blue\"]].rio.to_raster('data/rgb.tif')"
   ]
  }
 ],
 "metadata": {
  "kernelspec": {
   "display_name": "Python 3",
   "language": "python",
   "name": "python3"
  },
  "language_info": {
   "codemirror_mode": {
    "name": "ipython",
    "version": 3
   },
   "file_extension": ".py",
   "mimetype": "text/x-python",
   "name": "python",
   "nbconvert_exporter": "python",
   "pygments_lexer": "ipython3",
   "version": "3.11.2"
  },
  "orig_nbformat": 4
 },
 "nbformat": 4,
 "nbformat_minor": 2
}

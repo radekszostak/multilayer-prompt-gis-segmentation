{
 "cells": [
  {
   "cell_type": "code",
   "execution_count": 21,
   "metadata": {},
   "outputs": [],
   "source": [
    "import rioxarray as rxr\n",
    "import xarray as xr\n",
    "# import rioxarray as rxr\n",
    "import matplotlib.pyplot as plt"
   ]
  },
  {
   "cell_type": "code",
   "execution_count": 22,
   "metadata": {},
   "outputs": [],
   "source": [
    "paths = [\"data/20230708_ms_koc_index_blue.tif\",\n",
    "         \"data/20230708_ms_koc_index_green.tif\",\n",
    "         \"data/20230708_ms_koc_index_red.tif\",\n",
    "         \"data/20230708_ms_koc_index_nir.tif\",\n",
    "         \"data/20230708_ms_koc_index_red_edge.tif\"]\n",
    "bands = ['blue', 'green', 'red', 'nir', 'red_edge']"
   ]
  },
  {
   "cell_type": "code",
   "execution_count": 23,
   "metadata": {},
   "outputs": [],
   "source": [
    "ds = xr.Dataset()\n",
    "for path, band in zip(paths, bands):\n",
    "    ds[band] = rxr.open_rasterio(path).squeeze()\n",
    "ds = ds.rio.reproject(\"EPSG:4326\", interpolation='nearest')"
   ]
  },
  {
   "cell_type": "code",
   "execution_count": null,
   "metadata": {},
   "outputs": [],
   "source": [
    "ds.to_netcdf('data/multispectral.nc', engine='h5netcdf')"
   ]
  },
  {
   "cell_type": "code",
   "execution_count": 24,
   "metadata": {},
   "outputs": [
    {
     "name": "stderr",
     "output_type": "stream",
     "text": [
      "/usr/local/lib/python3.11/dist-packages/xarray/core/duck_array_ops.py:188: RuntimeWarning: invalid value encountered in cast\n",
      "  return data.astype(dtype, **kwargs)\n"
     ]
    }
   ],
   "source": [
    "rgb_ds = ds[[\"red\", \"green\", \"blue\"]]\n",
    "rgb_da = rgb_ds.to_array(dim='band')\n",
    "nodata_mask = rgb_da != -10000\n",
    "nodata_mask = nodata_mask.all(dim='band')\n",
    "rgb_da = rgb_da.where(nodata_mask)\n",
    "#stretch from 0 to 1\n",
    "rgb_da = rgb_da / rgb_da.max(dim=['x', 'y'])\n",
    "nodata_mask = nodata_mask.expand_dims(dim='band').assign_coords(band=['alpha'])*255\n",
    "rgb_da = (rgb_da * 255)\n",
    "rgb_da = xr.concat([rgb_da, nodata_mask], dim='band')\n",
    "rgb_da = rgb_da.astype('uint8')"
   ]
  },
  {
   "cell_type": "code",
   "execution_count": 25,
   "metadata": {},
   "outputs": [],
   "source": [
    "rgb_da.rio.to_raster('data/rgb.tif')"
   ]
  }
 ],
 "metadata": {
  "kernelspec": {
   "display_name": "Python 3 (ipykernel)",
   "language": "python",
   "name": "python3"
  },
  "language_info": {
   "codemirror_mode": {
    "name": "ipython",
    "version": 3
   },
   "file_extension": ".py",
   "mimetype": "text/x-python",
   "name": "python",
   "nbconvert_exporter": "python",
   "pygments_lexer": "ipython3",
   "version": "3.11.2"
  }
 },
 "nbformat": 4,
 "nbformat_minor": 4
}
